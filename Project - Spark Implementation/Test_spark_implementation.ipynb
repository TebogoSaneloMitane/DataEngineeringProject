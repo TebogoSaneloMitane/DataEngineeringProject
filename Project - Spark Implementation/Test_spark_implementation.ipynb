{
 "cells": [
  {
   "cell_type": "code",
   "execution_count": 13,
   "id": "36141556-896e-457b-8195-7ebb37a2d82f",
   "metadata": {},
   "outputs": [
    {
     "name": "stderr",
     "output_type": "stream",
     "text": [
      "25/03/07 08:04:29 WARN Utils: Service 'SparkUI' could not bind on port 8080. Attempting port 8081.\n",
      "25/03/07 08:04:29 WARN Utils: Service 'SparkUI' could not bind on port 8081. Attempting port 8082.\n"
     ]
    }
   ],
   "source": [
    "from pyspark.sql import SparkSession\n",
    "\n",
    "# New API\n",
    "spark_session = SparkSession.builder\\\n",
    "        .master(\"spark://192.168.2.156:7077\") \\\n",
    "        .appName(\"Tove_ProjectGroup35\")\\\n",
    "        .config(\"spark.dynamicAllocation.enabled\", True)\\\n",
    "        .config(\"spark.dynamicAllocation.shuffleTracking.enabled\",True)\\\n",
    "        .config(\"spark.shuffle.service.enabled\", False)\\\n",
    "        .config(\"spark.dynamicAllocation.executorIdleTimeout\",\"30s\")\\\n",
    "        .config(\"spark.executor.cores\",2)\\\n",
    "        .config(\"spark.driver.port\",9999)\\\n",
    "        .config(\"spark.blockManager.port\",10005)\\\n",
    "        .getOrCreate()"
   ]
  },
  {
   "cell_type": "code",
   "execution_count": 37,
   "id": "6b267a62-b2a6-4c64-851b-ab029077509d",
   "metadata": {},
   "outputs": [
    {
     "name": "stderr",
     "output_type": "stream",
     "text": [
      "[Stage 44:==============================================>         (10 + 2) / 12]"
     ]
    },
    {
     "name": "stdout",
     "output_type": "stream",
     "text": [
      "root\n",
      " |-- _corrupt_record: string (nullable = true)\n",
      " |-- author: string (nullable = true)\n",
      " |-- body: string (nullable = true)\n",
      " |-- content: string (nullable = true)\n",
      " |-- content_len: long (nullable = true)\n",
      " |-- id: string (nullable = true)\n",
      " |-- normalizedBody: string (nullable = true)\n",
      " |-- subreddit: string (nullable = true)\n",
      " |-- subreddit_id: string (nullable = true)\n",
      " |-- summary: string (nullable = true)\n",
      " |-- summary_len: long (nullable = true)\n",
      " |-- title: string (nullable = true)\n",
      "\n"
     ]
    },
    {
     "name": "stderr",
     "output_type": "stream",
     "text": [
      "                                                                                "
     ]
    }
   ],
   "source": [
    "# Importing the file into a DataFrame\n",
    "reddit_df = spark_session.read.json(\"hdfs://192.168.2.156:9000/data/reddit/reddit_50k.json\")\n",
    "\n",
    "# Show the schema to understand the structure\n",
    "reddit_df.printSchema()"
   ]
  },
  {
   "cell_type": "code",
   "execution_count": 41,
   "id": "97063d0e-1726-40a8-82e1-6f9de64f1c91",
   "metadata": {},
   "outputs": [
    {
     "name": "stdout",
     "output_type": "stream",
     "text": [
      "+--------------------+--------------------+\n",
      "|           subreddit|                body|\n",
      "+--------------------+--------------------+\n",
      "|                math|i think it should...|\n",
      "|               funny|art is about the ...|\n",
      "|         Borderlands|ask me what i thi...|\n",
      "|            gamingpc|in mechwarrior on...|\n",
      "|              Diablo|you are talking a...|\n",
      "|   RedditLaqueristas|all but one of my...|\n",
      "|               apple|i could give a sh...|\n",
      "|               apple|so youre saying t...|\n",
      "|RedditFilmsProduc...|i love this idea ...|\n",
      "|       AbandonedPorn|theres an entire ...|\n",
      "+--------------------+--------------------+\n",
      "only showing top 10 rows\n",
      "\n"
     ]
    },
    {
     "name": "stderr",
     "output_type": "stream",
     "text": [
      "                                                                                "
     ]
    }
   ],
   "source": [
    "from pyspark.sql.functions import lower, regexp_replace, col, when, count, sum as spark_sum\n",
    "\n",
    "# Preprocessing\n",
    "reddit_preprocessed = reddit_df.select(\"subreddit\", \"body\")\n",
    "\n",
    "# Drop all subreddits where body AND subreddit is NULL\n",
    "reddit_preprocessed = reddit_preprocessed.dropna(how=\"all\", subset=[\"subreddit\", \"body\"])\n",
    "\n",
    "# Fill missing subreddit with \"unknown\"\n",
    "reddit_preprocessed = reddit_preprocessed.withColumn(\"subreddit\", when(col(\"subreddit\").isNull(), \"unknown\").otherwise(col(\"subreddit\")))\n",
    "\n",
    "# Fill missing body with an empty string\n",
    "reddit_preprocessed = reddit_preprocessed.withColumn(\"body\", when(col(\"body\").isNull(), \"\").otherwise(col(\"body\")))\n",
    "\n",
    "# Normalizing the text: lowercase and remove punctuation\n",
    "reddit_preprocessed = reddit_preprocessed.withColumn(\"body\", lower(col(\"body\")))\n",
    "reddit_preprocessed = reddit_preprocessed.withColumn(\"body\", regexp_replace(col(\"body\"), \"[^a-z\\s]\", \"\"))  # Remove non-alphabetic chars\n",
    "\n",
    "# Show five samples\n",
    "reddit_preprocessed.show(10)"
   ]
  },
  {
   "cell_type": "code",
   "execution_count": 44,
   "id": "85c58973-1150-4d1d-ae66-9381b243b816",
   "metadata": {},
   "outputs": [],
   "source": [
    "# Defining a list of the largest countries in the world\n",
    "countries = [\"China\", \"India\", \"United States\", \"Indonesia\", \"Pakistan\", \n",
    "             \"Brazil\", \"Nigeria\", \"Bangladesh\", \"Russia\", \"Mexico\"]\n",
    "\n",
    "def country_mentions_counter(df):\n",
    "    for country in countries:\n",
    "        df = df.withColumn(country, when(col(\"body\").contains(country.lower()), 1).otherwise(0))\n",
    "\n",
    "    country_mentions = df.groupBy(\"subreddit\").sum(*countries)\n",
    "\n",
    "    # Summarize total mentions across all subreddits\n",
    "    total_mentions = country_mentions.select(\n",
    "        *[spark_sum(col(f\"sum({country})\")).alias(country) for country in countries]\n",
    "    )\n",
    "\n",
    "    return country_mentions, total_mentions\n",
    "    "
   ]
  },
  {
   "cell_type": "code",
   "execution_count": 47,
   "id": "84baa240-d579-4f42-b82f-8f60183dd72f",
   "metadata": {},
   "outputs": [
    {
     "name": "stderr",
     "output_type": "stream",
     "text": [
      "[Stage 64:===================================================>    (11 + 1) / 12]"
     ]
    },
    {
     "name": "stdout",
     "output_type": "stream",
     "text": [
      "+-----+-----+-------------+---------+--------+------+-------+----------+------+------+\n",
      "|China|India|United States|Indonesia|Pakistan|Brazil|Nigeria|Bangladesh|Russia|Mexico|\n",
      "+-----+-----+-------------+---------+--------+------+-------+----------+------+------+\n",
      "|  332|  328|          268|       17|      62|    77|     14|        11|   333|   110|\n",
      "+-----+-----+-------------+---------+--------+------+-------+----------+------+------+\n",
      "\n",
      "Execution Time: 0.1178 seconds\n",
      "CPU Usage Change: 20.30%\n",
      "Memory Usage Change: -0.0000 GB\n",
      "Peak Memory Usage: 0.0998 GB\n"
     ]
    },
    {
     "name": "stderr",
     "output_type": "stream",
     "text": [
      "                                                                                "
     ]
    }
   ],
   "source": [
    "# Execution time measurement\n",
    "import time\n",
    "import psutil\n",
    "\n",
    "# Capture system resource usage before execution\n",
    "cpu_before = psutil.cpu_percent(interval=None)\n",
    "memory_before = psutil.virtual_memory().used / (1024 ** 3)  # Convert bytes to GB\n",
    "\n",
    "# Start time measurement\n",
    "start_time = time.time()\n",
    "\n",
    "# Call the function\n",
    "subreddit_mentions, total_mentions = country_mentions_counter(reddit_preprocessed)\n",
    "\n",
    "# End time measurement\n",
    "end_time = time.time()\n",
    "\n",
    "# Capture system resource usage after execution\n",
    "cpu_after = psutil.cpu_percent(interval=None)\n",
    "memory_after = psutil.virtual_memory().used / (1024 ** 3)  # Convert bytes to GB\n",
    "\n",
    "# Peak memory usage\n",
    "memory_peak = psutil.Process().memory_info().rss / (1024 ** 3)  # Resident Set Size (RSS) in GB\n",
    "\n",
    "# Execution statistics\n",
    "execution_time = end_time - start_time\n",
    "cpu_usage = cpu_after - cpu_before\n",
    "memory_usage = memory_after - memory_before\n",
    "\n",
    "# Show results\n",
    "total_mentions.show()  # Show total mentions across all subreddits\n",
    "print(f\"Execution Time: {execution_time:.4f} seconds\")\n",
    "print(f\"CPU Usage Change: {cpu_usage:.2f}%\")\n",
    "print(f\"Memory Usage Change: {memory_usage:.4f} GB\")\n",
    "print(f\"Peak Memory Usage: {memory_peak:.4f} GB\")\n"
   ]
  },
  {
   "cell_type": "code",
   "execution_count": 35,
   "id": "937d16f6-5cc6-48b8-ab5d-576d40a3c262",
   "metadata": {},
   "outputs": [
    {
     "name": "stderr",
     "output_type": "stream",
     "text": [
      "[Stage 40:===================================================>    (11 + 1) / 12]"
     ]
    },
    {
     "name": "stdout",
     "output_type": "stream",
     "text": [
      "+-----+-----+-------------+---------+--------+------+-------+----------+------+------+\n",
      "|China|India|United States|Indonesia|Pakistan|Brazil|Nigeria|Bangladesh|Russia|Mexico|\n",
      "+-----+-----+-------------+---------+--------+------+-------+----------+------+------+\n",
      "| 1270|  637|         1104|       91|     180|   195|     52|        28|   787|   489|\n",
      "+-----+-----+-------------+---------+--------+------+-------+----------+------+------+\n",
      "\n"
     ]
    },
    {
     "name": "stderr",
     "output_type": "stream",
     "text": [
      "                                                                                "
     ]
    }
   ],
   "source": [
    "# Summing mentions across all subreddits\n",
    "total_mentions = reddit_df.agg(\n",
    "    *(spark_sum(country).alias(country) for country in countries)\n",
    ")\n",
    "\n",
    "# Show total mentions of each country\n",
    "total_mentions.show()"
   ]
  },
  {
   "cell_type": "code",
   "execution_count": 48,
   "id": "0108c6d6-ca42-4cfb-9774-17cd4407854e",
   "metadata": {},
   "outputs": [],
   "source": [
    "# Terminate session\n",
    "spark_session.stop()"
   ]
  },
  {
   "cell_type": "code",
   "execution_count": null,
   "id": "bd2a3ae0-59d6-42a7-834c-5647930ee3cd",
   "metadata": {},
   "outputs": [],
   "source": []
  }
 ],
 "metadata": {
  "kernelspec": {
   "display_name": "Python 3 (ipykernel)",
   "language": "python",
   "name": "python3"
  },
  "language_info": {
   "codemirror_mode": {
    "name": "ipython",
    "version": 3
   },
   "file_extension": ".py",
   "mimetype": "text/x-python",
   "name": "python",
   "nbconvert_exporter": "python",
   "pygments_lexer": "ipython3",
   "version": "3.10.12"
  }
 },
 "nbformat": 4,
 "nbformat_minor": 5
}
